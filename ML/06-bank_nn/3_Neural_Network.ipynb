{
 "cells": [
  {
   "cell_type": "code",
   "execution_count": 1,
   "metadata": {
    "id": "atw2Xac9I0xl"
   },
   "outputs": [],
   "source": [
    "#pip install tensorflow\n",
    "#pip install seaborn\n",
    "#pip install matplotlib\n",
    "#pip install sequential\n",
    "import numpy as np\n",
    "import matplotlib.pyplot as plt\n",
    "import pandas as pd\n",
    "import seaborn as sns\n",
    "sns.set()"
   ]
  },
  {
   "cell_type": "code",
   "execution_count": 2,
   "metadata": {
    "colab": {
     "base_uri": "https://localhost:8080/",
     "height": 302
    },
    "id": "NPfi2q75I0xl",
    "outputId": "1f049900-3b13-433a-fa05-c439e3d9c2de"
   },
   "outputs": [
    {
     "data": {
      "text/html": [
       "<div>\n",
       "<style scoped>\n",
       "    .dataframe tbody tr th:only-of-type {\n",
       "        vertical-align: middle;\n",
       "    }\n",
       "\n",
       "    .dataframe tbody tr th {\n",
       "        vertical-align: top;\n",
       "    }\n",
       "\n",
       "    .dataframe thead th {\n",
       "        text-align: right;\n",
       "    }\n",
       "</style>\n",
       "<table border=\"1\" class=\"dataframe\">\n",
       "  <thead>\n",
       "    <tr style=\"text-align: right;\">\n",
       "      <th></th>\n",
       "      <th>CustomerId</th>\n",
       "      <th>Surname</th>\n",
       "      <th>CreditScore</th>\n",
       "      <th>Geography</th>\n",
       "      <th>Gender</th>\n",
       "      <th>Age</th>\n",
       "      <th>Tenure</th>\n",
       "      <th>Balance</th>\n",
       "      <th>NumOfProducts</th>\n",
       "      <th>HasCrCard</th>\n",
       "      <th>IsActiveMember</th>\n",
       "      <th>EstimatedSalary</th>\n",
       "      <th>Exited</th>\n",
       "    </tr>\n",
       "    <tr>\n",
       "      <th>RowNumber</th>\n",
       "      <th></th>\n",
       "      <th></th>\n",
       "      <th></th>\n",
       "      <th></th>\n",
       "      <th></th>\n",
       "      <th></th>\n",
       "      <th></th>\n",
       "      <th></th>\n",
       "      <th></th>\n",
       "      <th></th>\n",
       "      <th></th>\n",
       "      <th></th>\n",
       "      <th></th>\n",
       "    </tr>\n",
       "  </thead>\n",
       "  <tbody>\n",
       "    <tr>\n",
       "      <th>1</th>\n",
       "      <td>15634602</td>\n",
       "      <td>Hargrave</td>\n",
       "      <td>619</td>\n",
       "      <td>France</td>\n",
       "      <td>Female</td>\n",
       "      <td>42</td>\n",
       "      <td>2</td>\n",
       "      <td>0.00</td>\n",
       "      <td>1</td>\n",
       "      <td>1</td>\n",
       "      <td>1</td>\n",
       "      <td>101348.88</td>\n",
       "      <td>1</td>\n",
       "    </tr>\n",
       "    <tr>\n",
       "      <th>2</th>\n",
       "      <td>15647311</td>\n",
       "      <td>Hill</td>\n",
       "      <td>608</td>\n",
       "      <td>Spain</td>\n",
       "      <td>Female</td>\n",
       "      <td>41</td>\n",
       "      <td>1</td>\n",
       "      <td>83807.86</td>\n",
       "      <td>1</td>\n",
       "      <td>0</td>\n",
       "      <td>1</td>\n",
       "      <td>112542.58</td>\n",
       "      <td>0</td>\n",
       "    </tr>\n",
       "    <tr>\n",
       "      <th>3</th>\n",
       "      <td>15619304</td>\n",
       "      <td>Onio</td>\n",
       "      <td>502</td>\n",
       "      <td>France</td>\n",
       "      <td>Female</td>\n",
       "      <td>42</td>\n",
       "      <td>8</td>\n",
       "      <td>159660.80</td>\n",
       "      <td>3</td>\n",
       "      <td>1</td>\n",
       "      <td>0</td>\n",
       "      <td>113931.57</td>\n",
       "      <td>1</td>\n",
       "    </tr>\n",
       "    <tr>\n",
       "      <th>4</th>\n",
       "      <td>15701354</td>\n",
       "      <td>Boni</td>\n",
       "      <td>699</td>\n",
       "      <td>France</td>\n",
       "      <td>Female</td>\n",
       "      <td>39</td>\n",
       "      <td>1</td>\n",
       "      <td>0.00</td>\n",
       "      <td>2</td>\n",
       "      <td>0</td>\n",
       "      <td>0</td>\n",
       "      <td>93826.63</td>\n",
       "      <td>0</td>\n",
       "    </tr>\n",
       "    <tr>\n",
       "      <th>5</th>\n",
       "      <td>15737888</td>\n",
       "      <td>Mitchell</td>\n",
       "      <td>850</td>\n",
       "      <td>Spain</td>\n",
       "      <td>Female</td>\n",
       "      <td>43</td>\n",
       "      <td>2</td>\n",
       "      <td>125510.82</td>\n",
       "      <td>1</td>\n",
       "      <td>1</td>\n",
       "      <td>1</td>\n",
       "      <td>79084.10</td>\n",
       "      <td>0</td>\n",
       "    </tr>\n",
       "  </tbody>\n",
       "</table>\n",
       "</div>"
      ],
      "text/plain": [
       "           CustomerId   Surname  CreditScore Geography  Gender  Age  Tenure  \\\n",
       "RowNumber                                                                     \n",
       "1            15634602  Hargrave          619    France  Female   42       2   \n",
       "2            15647311      Hill          608     Spain  Female   41       1   \n",
       "3            15619304      Onio          502    France  Female   42       8   \n",
       "4            15701354      Boni          699    France  Female   39       1   \n",
       "5            15737888  Mitchell          850     Spain  Female   43       2   \n",
       "\n",
       "             Balance  NumOfProducts  HasCrCard  IsActiveMember  \\\n",
       "RowNumber                                                        \n",
       "1               0.00              1          1               1   \n",
       "2           83807.86              1          0               1   \n",
       "3          159660.80              3          1               0   \n",
       "4               0.00              2          0               0   \n",
       "5          125510.82              1          1               1   \n",
       "\n",
       "           EstimatedSalary  Exited  \n",
       "RowNumber                           \n",
       "1                101348.88       1  \n",
       "2                112542.58       0  \n",
       "3                113931.57       1  \n",
       "4                 93826.63       0  \n",
       "5                 79084.10       0  "
      ]
     },
     "execution_count": 2,
     "metadata": {},
     "output_type": "execute_result"
    }
   ],
   "source": [
    "dataset = pd.read_csv('Churn_Modelling.csv', index_col = 'RowNumber')\n",
    "dataset.head()\n"
   ]
  },
  {
   "cell_type": "code",
   "execution_count": 3,
   "metadata": {
    "colab": {
     "base_uri": "https://localhost:8080/"
    },
    "id": "jelFHwknI0xm",
    "outputId": "e8e8af69-44e3-4b72-84cf-e15d6b026a5f"
   },
   "outputs": [
    {
     "name": "stdout",
     "output_type": "stream",
     "text": [
      "['CreditScore', 'Geography', 'Gender', 'Age', 'Tenure', 'Balance', 'NumOfProducts', 'HasCrCard', 'IsActiveMember', 'EstimatedSalary']\n",
      "['Exited']\n"
     ]
    }
   ],
   "source": [
    "#Customer ID and Surname would not be relevant as features\n",
    "X_columns = dataset.columns.tolist()[2:12]\n",
    "Y_columns = dataset.columns.tolist()[-1:]\n",
    "print(X_columns)\n",
    "print(Y_columns)"
   ]
  },
  {
   "cell_type": "code",
   "execution_count": 4,
   "metadata": {
    "id": "_EnXaCYmI0xn"
   },
   "outputs": [],
   "source": [
    "X = dataset[X_columns].values \n",
    "Y = dataset[Y_columns].values"
   ]
  },
  {
   "cell_type": "code",
   "execution_count": 5,
   "metadata": {
    "id": "cjbVx3FRI0xn"
   },
   "outputs": [],
   "source": [
    "#We need to encode categorical variables such as geography and gender\n",
    "from sklearn.preprocessing import LabelEncoder\n",
    "X_column_transformer = LabelEncoder()\n",
    "X[:, 1] = X_column_transformer.fit_transform(X[:, 1])"
   ]
  },
  {
   "cell_type": "code",
   "execution_count": 6,
   "metadata": {
    "id": "tS02t4y9I0xn"
   },
   "outputs": [],
   "source": [
    "#Lets Encode gender now\n",
    "X[:, 2] = X_column_transformer.fit_transform(X[:, 2])"
   ]
  },
  {
   "cell_type": "markdown",
   "metadata": {
    "id": "DKwFc-HWI0xo"
   },
   "source": [
    "We are treating countries with ordinal values(0 < 1 < 2) but they are incomparable.\n",
    "To solve this we can use one hot encoding.\n",
    "We will perform some standardization "
   ]
  },
  {
   "cell_type": "code",
   "execution_count": 7,
   "metadata": {
    "id": "v-bI9UNiI0xo"
   },
   "outputs": [],
   "source": [
    "from sklearn.preprocessing import StandardScaler, OneHotEncoder\n",
    "from sklearn.compose import ColumnTransformer\n",
    "from sklearn.pipeline import Pipeline\n",
    "\n",
    "pipeline = Pipeline(\n",
    "    [\n",
    "        ('Categorizer', ColumnTransformer(\n",
    "            [\n",
    "                (\"Gender Label Encoder\", OneHotEncoder(categories = 'auto', drop = 'first'), [2]),\n",
    "                (\"Geography Label Encoder\", OneHotEncoder(categories = 'auto', drop = 'first'), [1])\n",
    "            ], \n",
    "            remainder = 'passthrough', n_jobs = 1)),\n",
    "        ('Normalizer', StandardScaler())\n",
    "    ]\n",
    ")"
   ]
  },
  {
   "cell_type": "code",
   "execution_count": 8,
   "metadata": {
    "id": "7_TO_-fQI0xp"
   },
   "outputs": [],
   "source": [
    "#Standardize the features\n",
    "X = pipeline.fit_transform(X)"
   ]
  },
  {
   "cell_type": "code",
   "execution_count": 9,
   "metadata": {
    "id": "OJ7VUetiI0xq"
   },
   "outputs": [],
   "source": [
    "#Spilt the data\n",
    "from sklearn.model_selection import train_test_split\n",
    "X_train, X_test, y_train, y_test = train_test_split(X, Y, test_size = 0.2, random_state = 0)"
   ]
  },
  {
   "cell_type": "code",
   "execution_count": 10,
   "metadata": {},
   "outputs": [],
   "source": [
    "#"
   ]
  },
  {
   "cell_type": "code",
   "execution_count": 11,
   "metadata": {
    "id": "mX35INUFI0xr"
   },
   "outputs": [
    {
     "name": "stdout",
     "output_type": "stream",
     "text": [
      "WARNING:tensorflow:From C:\\Users\\Owner\\AppData\\Local\\Programs\\Python\\Python311\\Lib\\site-packages\\keras\\src\\losses.py:2976: The name tf.losses.sparse_softmax_cross_entropy is deprecated. Please use tf.compat.v1.losses.sparse_softmax_cross_entropy instead.\n",
      "\n"
     ]
    }
   ],
   "source": [
    "#Let us create the Neural Network\n",
    "from keras.models import Sequential\n",
    "from keras.layers import Dense, Dropout"
   ]
  },
  {
   "cell_type": "code",
   "execution_count": 12,
   "metadata": {
    "id": "VYIsyqOUI0xs"
   },
   "outputs": [
    {
     "name": "stdout",
     "output_type": "stream",
     "text": [
      "WARNING:tensorflow:From C:\\Users\\Owner\\AppData\\Local\\Programs\\Python\\Python311\\Lib\\site-packages\\keras\\src\\backend.py:873: The name tf.get_default_graph is deprecated. Please use tf.compat.v1.get_default_graph instead.\n",
      "\n"
     ]
    }
   ],
   "source": [
    "#Initialize ANN\n",
    "classifier = Sequential()"
   ]
  },
  {
   "cell_type": "code",
   "execution_count": 13,
   "metadata": {
    "id": "i3nH8oOhJcp8"
   },
   "outputs": [],
   "source": [
    "#Add input layer and hidden layer\n",
    "classifier.add(Dense(6, activation = 'relu', input_shape = (X_train.shape[1], )))\n",
    "classifier.add(Dropout(rate = 0.1))"
   ]
  },
  {
   "cell_type": "code",
   "execution_count": 14,
   "metadata": {
    "id": "gULE3c-YPvsI"
   },
   "outputs": [],
   "source": [
    "#Add second layer\n",
    "classifier.add(Dense(6, activation = 'relu'))\n",
    "classifier.add(Dropout(rate = 0.1))"
   ]
  },
  {
   "cell_type": "code",
   "execution_count": 15,
   "metadata": {
    "id": "j_XpNLaSP9Qk"
   },
   "outputs": [],
   "source": [
    "#Add output layer\n",
    "classifier.add(Dense(1, activation = 'sigmoid'))"
   ]
  },
  {
   "cell_type": "code",
   "execution_count": 16,
   "metadata": {
    "colab": {
     "base_uri": "https://localhost:8080/"
    },
    "id": "5rodKUhIQUWH",
    "outputId": "a8dd63ea-6662-41f3-a43b-4f3f4567a06d"
   },
   "outputs": [
    {
     "name": "stdout",
     "output_type": "stream",
     "text": [
      "Model: \"sequential\"\n",
      "_________________________________________________________________\n",
      " Layer (type)                Output Shape              Param #   \n",
      "=================================================================\n",
      " dense (Dense)               (None, 6)                 72        \n",
      "                                                                 \n",
      " dropout (Dropout)           (None, 6)                 0         \n",
      "                                                                 \n",
      " dense_1 (Dense)             (None, 6)                 42        \n",
      "                                                                 \n",
      " dropout_1 (Dropout)         (None, 6)                 0         \n",
      "                                                                 \n",
      " dense_2 (Dense)             (None, 1)                 7         \n",
      "                                                                 \n",
      "=================================================================\n",
      "Total params: 121 (484.00 Byte)\n",
      "Trainable params: 121 (484.00 Byte)\n",
      "Non-trainable params: 0 (0.00 Byte)\n",
      "_________________________________________________________________\n"
     ]
    }
   ],
   "source": [
    "#Let us take a look at our network\n",
    "classifier.summary()"
   ]
  },
  {
   "cell_type": "code",
   "execution_count": 17,
   "metadata": {
    "id": "XfHGyyviSXed"
   },
   "outputs": [
    {
     "name": "stdout",
     "output_type": "stream",
     "text": [
      "WARNING:tensorflow:From C:\\Users\\Owner\\AppData\\Local\\Programs\\Python\\Python311\\Lib\\site-packages\\keras\\src\\optimizers\\__init__.py:309: The name tf.train.Optimizer is deprecated. Please use tf.compat.v1.train.Optimizer instead.\n",
      "\n"
     ]
    }
   ],
   "source": [
    "#Optimize the weights\n",
    "classifier.compile(optimizer = 'adam', loss = 'binary_crossentropy', metrics = ['accuracy'])"
   ]
  },
  {
   "cell_type": "code",
   "execution_count": 18,
   "metadata": {
    "colab": {
     "base_uri": "https://localhost:8080/"
    },
    "id": "7px7qzJQVhan",
    "outputId": "09d47fa7-684c-424c-f144-e86492bcfa24"
   },
   "outputs": [
    {
     "name": "stdout",
     "output_type": "stream",
     "text": [
      "Epoch 1/200\n",
      "WARNING:tensorflow:From C:\\Users\\Owner\\AppData\\Local\\Programs\\Python\\Python311\\Lib\\site-packages\\keras\\src\\utils\\tf_utils.py:492: The name tf.ragged.RaggedTensorValue is deprecated. Please use tf.compat.v1.ragged.RaggedTensorValue instead.\n",
      "\n",
      "WARNING:tensorflow:From C:\\Users\\Owner\\AppData\\Local\\Programs\\Python\\Python311\\Lib\\site-packages\\keras\\src\\engine\\base_layer_utils.py:384: The name tf.executing_eagerly_outside_functions is deprecated. Please use tf.compat.v1.executing_eagerly_outside_functions instead.\n",
      "\n",
      "225/225 - 3s - loss: 0.5239 - accuracy: 0.7635 - val_loss: 0.4813 - val_accuracy: 0.8012 - 3s/epoch - 12ms/step\n",
      "Epoch 2/200\n",
      "225/225 - 1s - loss: 0.4806 - accuracy: 0.7936 - val_loss: 0.4596 - val_accuracy: 0.7975 - 540ms/epoch - 2ms/step\n",
      "Epoch 3/200\n",
      "225/225 - 1s - loss: 0.4687 - accuracy: 0.7985 - val_loss: 0.4471 - val_accuracy: 0.8025 - 527ms/epoch - 2ms/step\n",
      "Epoch 4/200\n",
      "225/225 - 1s - loss: 0.4575 - accuracy: 0.8015 - val_loss: 0.4385 - val_accuracy: 0.8025 - 544ms/epoch - 2ms/step\n",
      "Epoch 5/200\n",
      "225/225 - 1s - loss: 0.4521 - accuracy: 0.8017 - val_loss: 0.4327 - val_accuracy: 0.8037 - 544ms/epoch - 2ms/step\n",
      "Epoch 6/200\n",
      "225/225 - 1s - loss: 0.4450 - accuracy: 0.8036 - val_loss: 0.4282 - val_accuracy: 0.8050 - 538ms/epoch - 2ms/step\n",
      "Epoch 7/200\n",
      "225/225 - 1s - loss: 0.4448 - accuracy: 0.8043 - val_loss: 0.4238 - val_accuracy: 0.8075 - 544ms/epoch - 2ms/step\n",
      "Epoch 8/200\n",
      "225/225 - 1s - loss: 0.4412 - accuracy: 0.8050 - val_loss: 0.4208 - val_accuracy: 0.8050 - 534ms/epoch - 2ms/step\n",
      "Epoch 9/200\n",
      "225/225 - 1s - loss: 0.4380 - accuracy: 0.8071 - val_loss: 0.4179 - val_accuracy: 0.8075 - 538ms/epoch - 2ms/step\n",
      "Epoch 10/200\n",
      "225/225 - 1s - loss: 0.4354 - accuracy: 0.8086 - val_loss: 0.4151 - val_accuracy: 0.8100 - 557ms/epoch - 2ms/step\n",
      "Epoch 11/200\n",
      "225/225 - 1s - loss: 0.4341 - accuracy: 0.8099 - val_loss: 0.4132 - val_accuracy: 0.8150 - 697ms/epoch - 3ms/step\n",
      "Epoch 12/200\n",
      "225/225 - 1s - loss: 0.4303 - accuracy: 0.8112 - val_loss: 0.4109 - val_accuracy: 0.8150 - 808ms/epoch - 4ms/step\n",
      "Epoch 13/200\n",
      "225/225 - 1s - loss: 0.4294 - accuracy: 0.8139 - val_loss: 0.4097 - val_accuracy: 0.8175 - 544ms/epoch - 2ms/step\n",
      "Epoch 14/200\n",
      "225/225 - 1s - loss: 0.4331 - accuracy: 0.8108 - val_loss: 0.4083 - val_accuracy: 0.8188 - 526ms/epoch - 2ms/step\n",
      "Epoch 15/200\n",
      "225/225 - 1s - loss: 0.4292 - accuracy: 0.8126 - val_loss: 0.4059 - val_accuracy: 0.8175 - 545ms/epoch - 2ms/step\n",
      "Epoch 16/200\n",
      "225/225 - 1s - loss: 0.4285 - accuracy: 0.8126 - val_loss: 0.4034 - val_accuracy: 0.8250 - 539ms/epoch - 2ms/step\n",
      "Epoch 17/200\n",
      "225/225 - 1s - loss: 0.4252 - accuracy: 0.8160 - val_loss: 0.4000 - val_accuracy: 0.8275 - 555ms/epoch - 2ms/step\n",
      "Epoch 18/200\n",
      "225/225 - 1s - loss: 0.4227 - accuracy: 0.8215 - val_loss: 0.3970 - val_accuracy: 0.8263 - 534ms/epoch - 2ms/step\n",
      "Epoch 19/200\n",
      "225/225 - 1s - loss: 0.4230 - accuracy: 0.8179 - val_loss: 0.3946 - val_accuracy: 0.8313 - 535ms/epoch - 2ms/step\n",
      "Epoch 20/200\n",
      "225/225 - 1s - loss: 0.4204 - accuracy: 0.8226 - val_loss: 0.3928 - val_accuracy: 0.8300 - 620ms/epoch - 3ms/step\n",
      "Epoch 21/200\n",
      "225/225 - 1s - loss: 0.4203 - accuracy: 0.8260 - val_loss: 0.3898 - val_accuracy: 0.8388 - 645ms/epoch - 3ms/step\n",
      "Epoch 22/200\n",
      "225/225 - 1s - loss: 0.4156 - accuracy: 0.8263 - val_loss: 0.3862 - val_accuracy: 0.8388 - 759ms/epoch - 3ms/step\n",
      "Epoch 23/200\n",
      "225/225 - 1s - loss: 0.4137 - accuracy: 0.8303 - val_loss: 0.3834 - val_accuracy: 0.8388 - 765ms/epoch - 3ms/step\n",
      "Epoch 24/200\n",
      "225/225 - 1s - loss: 0.4120 - accuracy: 0.8285 - val_loss: 0.3813 - val_accuracy: 0.8425 - 625ms/epoch - 3ms/step\n",
      "Epoch 25/200\n",
      "225/225 - 1s - loss: 0.4085 - accuracy: 0.8290 - val_loss: 0.3791 - val_accuracy: 0.8438 - 554ms/epoch - 2ms/step\n",
      "Epoch 26/200\n",
      "225/225 - 1s - loss: 0.4084 - accuracy: 0.8294 - val_loss: 0.3771 - val_accuracy: 0.8487 - 631ms/epoch - 3ms/step\n",
      "Epoch 27/200\n",
      "225/225 - 1s - loss: 0.4089 - accuracy: 0.8296 - val_loss: 0.3762 - val_accuracy: 0.8525 - 545ms/epoch - 2ms/step\n",
      "Epoch 28/200\n",
      "225/225 - 1s - loss: 0.4013 - accuracy: 0.8321 - val_loss: 0.3717 - val_accuracy: 0.8525 - 529ms/epoch - 2ms/step\n",
      "Epoch 29/200\n",
      "225/225 - 1s - loss: 0.4062 - accuracy: 0.8324 - val_loss: 0.3700 - val_accuracy: 0.8550 - 550ms/epoch - 2ms/step\n",
      "Epoch 30/200\n",
      "225/225 - 1s - loss: 0.3991 - accuracy: 0.8342 - val_loss: 0.3666 - val_accuracy: 0.8587 - 529ms/epoch - 2ms/step\n",
      "Epoch 31/200\n",
      "225/225 - 1s - loss: 0.3966 - accuracy: 0.8382 - val_loss: 0.3618 - val_accuracy: 0.8575 - 533ms/epoch - 2ms/step\n",
      "Epoch 32/200\n",
      "225/225 - 1s - loss: 0.3927 - accuracy: 0.8389 - val_loss: 0.3575 - val_accuracy: 0.8612 - 526ms/epoch - 2ms/step\n",
      "Epoch 33/200\n",
      "225/225 - 1s - loss: 0.3898 - accuracy: 0.8419 - val_loss: 0.3532 - val_accuracy: 0.8625 - 544ms/epoch - 2ms/step\n",
      "Epoch 34/200\n",
      "225/225 - 1s - loss: 0.3818 - accuracy: 0.8453 - val_loss: 0.3493 - val_accuracy: 0.8612 - 526ms/epoch - 2ms/step\n",
      "Epoch 35/200\n",
      "225/225 - 1s - loss: 0.3814 - accuracy: 0.8436 - val_loss: 0.3458 - val_accuracy: 0.8625 - 581ms/epoch - 3ms/step\n",
      "Epoch 36/200\n",
      "225/225 - 1s - loss: 0.3752 - accuracy: 0.8426 - val_loss: 0.3448 - val_accuracy: 0.8625 - 575ms/epoch - 3ms/step\n",
      "Epoch 37/200\n",
      "225/225 - 1s - loss: 0.3817 - accuracy: 0.8399 - val_loss: 0.3441 - val_accuracy: 0.8587 - 685ms/epoch - 3ms/step\n",
      "Epoch 38/200\n",
      "225/225 - 1s - loss: 0.3757 - accuracy: 0.8439 - val_loss: 0.3420 - val_accuracy: 0.8587 - 838ms/epoch - 4ms/step\n",
      "Epoch 39/200\n",
      "225/225 - 1s - loss: 0.3704 - accuracy: 0.8453 - val_loss: 0.3411 - val_accuracy: 0.8550 - 692ms/epoch - 3ms/step\n",
      "Epoch 40/200\n",
      "225/225 - 1s - loss: 0.3762 - accuracy: 0.8436 - val_loss: 0.3401 - val_accuracy: 0.8612 - 744ms/epoch - 3ms/step\n",
      "Epoch 41/200\n",
      "225/225 - 1s - loss: 0.3749 - accuracy: 0.8479 - val_loss: 0.3401 - val_accuracy: 0.8575 - 754ms/epoch - 3ms/step\n",
      "Epoch 42/200\n",
      "225/225 - 1s - loss: 0.3727 - accuracy: 0.8449 - val_loss: 0.3380 - val_accuracy: 0.8587 - 742ms/epoch - 3ms/step\n",
      "Epoch 43/200\n",
      "225/225 - 1s - loss: 0.3769 - accuracy: 0.8414 - val_loss: 0.3410 - val_accuracy: 0.8562 - 656ms/epoch - 3ms/step\n",
      "Epoch 44/200\n",
      "225/225 - 1s - loss: 0.3725 - accuracy: 0.8462 - val_loss: 0.3380 - val_accuracy: 0.8600 - 669ms/epoch - 3ms/step\n",
      "Epoch 45/200\n",
      "225/225 - 1s - loss: 0.3707 - accuracy: 0.8475 - val_loss: 0.3380 - val_accuracy: 0.8562 - 736ms/epoch - 3ms/step\n",
      "Epoch 46/200\n",
      "225/225 - 1s - loss: 0.3748 - accuracy: 0.8475 - val_loss: 0.3362 - val_accuracy: 0.8575 - 612ms/epoch - 3ms/step\n",
      "Epoch 47/200\n",
      "225/225 - 1s - loss: 0.3726 - accuracy: 0.8431 - val_loss: 0.3357 - val_accuracy: 0.8600 - 614ms/epoch - 3ms/step\n",
      "Epoch 48/200\n",
      "225/225 - 1s - loss: 0.3718 - accuracy: 0.8450 - val_loss: 0.3379 - val_accuracy: 0.8575 - 539ms/epoch - 2ms/step\n",
      "Epoch 49/200\n",
      "225/225 - 1s - loss: 0.3693 - accuracy: 0.8449 - val_loss: 0.3370 - val_accuracy: 0.8612 - 542ms/epoch - 2ms/step\n",
      "Epoch 50/200\n",
      "225/225 - 1s - loss: 0.3700 - accuracy: 0.8458 - val_loss: 0.3359 - val_accuracy: 0.8575 - 581ms/epoch - 3ms/step\n",
      "Epoch 51/200\n",
      "225/225 - 1s - loss: 0.3657 - accuracy: 0.8467 - val_loss: 0.3348 - val_accuracy: 0.8575 - 596ms/epoch - 3ms/step\n",
      "Epoch 52/200\n",
      "225/225 - 1s - loss: 0.3714 - accuracy: 0.8450 - val_loss: 0.3350 - val_accuracy: 0.8587 - 541ms/epoch - 2ms/step\n",
      "Epoch 53/200\n",
      "225/225 - 1s - loss: 0.3692 - accuracy: 0.8443 - val_loss: 0.3350 - val_accuracy: 0.8575 - 565ms/epoch - 3ms/step\n",
      "Epoch 54/200\n",
      "225/225 - 1s - loss: 0.3699 - accuracy: 0.8451 - val_loss: 0.3363 - val_accuracy: 0.8575 - 550ms/epoch - 2ms/step\n",
      "Epoch 55/200\n",
      "225/225 - 1s - loss: 0.3740 - accuracy: 0.8439 - val_loss: 0.3391 - val_accuracy: 0.8587 - 544ms/epoch - 2ms/step\n",
      "Epoch 56/200\n",
      "225/225 - 1s - loss: 0.3733 - accuracy: 0.8424 - val_loss: 0.3378 - val_accuracy: 0.8562 - 527ms/epoch - 2ms/step\n",
      "Epoch 57/200\n",
      "225/225 - 1s - loss: 0.3677 - accuracy: 0.8462 - val_loss: 0.3367 - val_accuracy: 0.8575 - 528ms/epoch - 2ms/step\n",
      "Epoch 58/200\n",
      "225/225 - 1s - loss: 0.3689 - accuracy: 0.8458 - val_loss: 0.3359 - val_accuracy: 0.8575 - 532ms/epoch - 2ms/step\n",
      "Epoch 59/200\n",
      "225/225 - 1s - loss: 0.3708 - accuracy: 0.8433 - val_loss: 0.3370 - val_accuracy: 0.8550 - 548ms/epoch - 2ms/step\n",
      "Epoch 60/200\n",
      "225/225 - 1s - loss: 0.3692 - accuracy: 0.8443 - val_loss: 0.3358 - val_accuracy: 0.8600 - 548ms/epoch - 2ms/step\n",
      "Epoch 61/200\n",
      "225/225 - 1s - loss: 0.3710 - accuracy: 0.8475 - val_loss: 0.3374 - val_accuracy: 0.8537 - 527ms/epoch - 2ms/step\n",
      "Epoch 62/200\n",
      "225/225 - 1s - loss: 0.3697 - accuracy: 0.8449 - val_loss: 0.3374 - val_accuracy: 0.8537 - 552ms/epoch - 2ms/step\n",
      "Epoch 63/200\n",
      "225/225 - 1s - loss: 0.3727 - accuracy: 0.8454 - val_loss: 0.3382 - val_accuracy: 0.8562 - 520ms/epoch - 2ms/step\n",
      "Epoch 64/200\n",
      "225/225 - 1s - loss: 0.3670 - accuracy: 0.8485 - val_loss: 0.3336 - val_accuracy: 0.8562 - 536ms/epoch - 2ms/step\n",
      "Epoch 65/200\n",
      "225/225 - 1s - loss: 0.3643 - accuracy: 0.8481 - val_loss: 0.3339 - val_accuracy: 0.8575 - 525ms/epoch - 2ms/step\n",
      "Epoch 66/200\n",
      "225/225 - 1s - loss: 0.3722 - accuracy: 0.8457 - val_loss: 0.3357 - val_accuracy: 0.8562 - 527ms/epoch - 2ms/step\n",
      "Epoch 67/200\n",
      "225/225 - 1s - loss: 0.3715 - accuracy: 0.8442 - val_loss: 0.3338 - val_accuracy: 0.8562 - 546ms/epoch - 2ms/step\n",
      "Epoch 68/200\n",
      "225/225 - 1s - loss: 0.3719 - accuracy: 0.8428 - val_loss: 0.3353 - val_accuracy: 0.8550 - 578ms/epoch - 3ms/step\n",
      "Epoch 69/200\n",
      "225/225 - 1s - loss: 0.3650 - accuracy: 0.8467 - val_loss: 0.3338 - val_accuracy: 0.8562 - 528ms/epoch - 2ms/step\n",
      "Epoch 70/200\n",
      "225/225 - 1s - loss: 0.3684 - accuracy: 0.8433 - val_loss: 0.3358 - val_accuracy: 0.8562 - 526ms/epoch - 2ms/step\n",
      "Epoch 71/200\n",
      "225/225 - 1s - loss: 0.3643 - accuracy: 0.8475 - val_loss: 0.3350 - val_accuracy: 0.8525 - 538ms/epoch - 2ms/step\n",
      "Epoch 72/200\n",
      "225/225 - 1s - loss: 0.3687 - accuracy: 0.8451 - val_loss: 0.3338 - val_accuracy: 0.8562 - 547ms/epoch - 2ms/step\n",
      "Epoch 73/200\n",
      "225/225 - 1s - loss: 0.3643 - accuracy: 0.8460 - val_loss: 0.3338 - val_accuracy: 0.8562 - 533ms/epoch - 2ms/step\n",
      "Epoch 74/200\n",
      "225/225 - 1s - loss: 0.3704 - accuracy: 0.8442 - val_loss: 0.3345 - val_accuracy: 0.8537 - 533ms/epoch - 2ms/step\n",
      "Epoch 75/200\n",
      "225/225 - 1s - loss: 0.3677 - accuracy: 0.8449 - val_loss: 0.3340 - val_accuracy: 0.8587 - 536ms/epoch - 2ms/step\n",
      "Epoch 76/200\n",
      "225/225 - 1s - loss: 0.3625 - accuracy: 0.8475 - val_loss: 0.3340 - val_accuracy: 0.8587 - 531ms/epoch - 2ms/step\n",
      "Epoch 77/200\n",
      "225/225 - 1s - loss: 0.3654 - accuracy: 0.8451 - val_loss: 0.3319 - val_accuracy: 0.8562 - 534ms/epoch - 2ms/step\n",
      "Epoch 78/200\n",
      "225/225 - 1s - loss: 0.3652 - accuracy: 0.8461 - val_loss: 0.3348 - val_accuracy: 0.8550 - 547ms/epoch - 2ms/step\n",
      "Epoch 79/200\n",
      "225/225 - 1s - loss: 0.3681 - accuracy: 0.8483 - val_loss: 0.3362 - val_accuracy: 0.8537 - 538ms/epoch - 2ms/step\n",
      "Epoch 80/200\n",
      "225/225 - 1s - loss: 0.3671 - accuracy: 0.8454 - val_loss: 0.3347 - val_accuracy: 0.8537 - 518ms/epoch - 2ms/step\n",
      "Epoch 81/200\n",
      "225/225 - 1s - loss: 0.3691 - accuracy: 0.8450 - val_loss: 0.3351 - val_accuracy: 0.8537 - 517ms/epoch - 2ms/step\n",
      "Epoch 82/200\n",
      "225/225 - 1s - loss: 0.3679 - accuracy: 0.8460 - val_loss: 0.3348 - val_accuracy: 0.8550 - 547ms/epoch - 2ms/step\n",
      "Epoch 83/200\n",
      "225/225 - 1s - loss: 0.3674 - accuracy: 0.8453 - val_loss: 0.3338 - val_accuracy: 0.8537 - 534ms/epoch - 2ms/step\n",
      "Epoch 84/200\n",
      "225/225 - 1s - loss: 0.3635 - accuracy: 0.8458 - val_loss: 0.3348 - val_accuracy: 0.8537 - 519ms/epoch - 2ms/step\n",
      "Epoch 85/200\n",
      "225/225 - 1s - loss: 0.3671 - accuracy: 0.8464 - val_loss: 0.3355 - val_accuracy: 0.8537 - 533ms/epoch - 2ms/step\n",
      "Epoch 86/200\n",
      "225/225 - 1s - loss: 0.3660 - accuracy: 0.8440 - val_loss: 0.3347 - val_accuracy: 0.8550 - 529ms/epoch - 2ms/step\n",
      "Epoch 87/200\n",
      "225/225 - 1s - loss: 0.3676 - accuracy: 0.8440 - val_loss: 0.3352 - val_accuracy: 0.8537 - 525ms/epoch - 2ms/step\n",
      "Epoch 88/200\n",
      "225/225 - 1s - loss: 0.3611 - accuracy: 0.8483 - val_loss: 0.3341 - val_accuracy: 0.8550 - 525ms/epoch - 2ms/step\n",
      "Epoch 89/200\n",
      "225/225 - 1s - loss: 0.3628 - accuracy: 0.8479 - val_loss: 0.3344 - val_accuracy: 0.8550 - 537ms/epoch - 2ms/step\n",
      "Epoch 90/200\n",
      "225/225 - 1s - loss: 0.3665 - accuracy: 0.8471 - val_loss: 0.3347 - val_accuracy: 0.8550 - 535ms/epoch - 2ms/step\n",
      "Epoch 91/200\n",
      "225/225 - 1s - loss: 0.3706 - accuracy: 0.8431 - val_loss: 0.3360 - val_accuracy: 0.8537 - 570ms/epoch - 3ms/step\n",
      "Epoch 92/200\n",
      "225/225 - 1s - loss: 0.3663 - accuracy: 0.8471 - val_loss: 0.3343 - val_accuracy: 0.8550 - 593ms/epoch - 3ms/step\n",
      "Epoch 93/200\n",
      "225/225 - 1s - loss: 0.3657 - accuracy: 0.8442 - val_loss: 0.3343 - val_accuracy: 0.8562 - 602ms/epoch - 3ms/step\n",
      "Epoch 94/200\n",
      "225/225 - 1s - loss: 0.3653 - accuracy: 0.8469 - val_loss: 0.3348 - val_accuracy: 0.8562 - 540ms/epoch - 2ms/step\n",
      "Epoch 95/200\n",
      "225/225 - 1s - loss: 0.3673 - accuracy: 0.8450 - val_loss: 0.3325 - val_accuracy: 0.8525 - 547ms/epoch - 2ms/step\n",
      "Epoch 96/200\n",
      "225/225 - 1s - loss: 0.3647 - accuracy: 0.8461 - val_loss: 0.3334 - val_accuracy: 0.8537 - 573ms/epoch - 3ms/step\n",
      "Epoch 97/200\n",
      "225/225 - 1s - loss: 0.3696 - accuracy: 0.8438 - val_loss: 0.3368 - val_accuracy: 0.8537 - 529ms/epoch - 2ms/step\n",
      "Epoch 98/200\n",
      "225/225 - 1s - loss: 0.3668 - accuracy: 0.8461 - val_loss: 0.3332 - val_accuracy: 0.8575 - 535ms/epoch - 2ms/step\n",
      "Epoch 99/200\n",
      "225/225 - 1s - loss: 0.3677 - accuracy: 0.8460 - val_loss: 0.3334 - val_accuracy: 0.8550 - 539ms/epoch - 2ms/step\n",
      "Epoch 100/200\n",
      "225/225 - 1s - loss: 0.3656 - accuracy: 0.8464 - val_loss: 0.3343 - val_accuracy: 0.8562 - 755ms/epoch - 3ms/step\n",
      "Epoch 101/200\n",
      "225/225 - 1s - loss: 0.3666 - accuracy: 0.8462 - val_loss: 0.3332 - val_accuracy: 0.8575 - 560ms/epoch - 2ms/step\n",
      "Epoch 102/200\n",
      "225/225 - 1s - loss: 0.3632 - accuracy: 0.8465 - val_loss: 0.3335 - val_accuracy: 0.8575 - 552ms/epoch - 2ms/step\n",
      "Epoch 103/200\n",
      "225/225 - 1s - loss: 0.3628 - accuracy: 0.8465 - val_loss: 0.3345 - val_accuracy: 0.8550 - 535ms/epoch - 2ms/step\n",
      "Epoch 104/200\n",
      "225/225 - 1s - loss: 0.3644 - accuracy: 0.8479 - val_loss: 0.3345 - val_accuracy: 0.8537 - 556ms/epoch - 2ms/step\n",
      "Epoch 105/200\n",
      "225/225 - 1s - loss: 0.3643 - accuracy: 0.8462 - val_loss: 0.3371 - val_accuracy: 0.8537 - 536ms/epoch - 2ms/step\n",
      "Epoch 106/200\n",
      "225/225 - 1s - loss: 0.3628 - accuracy: 0.8481 - val_loss: 0.3347 - val_accuracy: 0.8550 - 516ms/epoch - 2ms/step\n",
      "Epoch 107/200\n",
      "225/225 - 1s - loss: 0.3610 - accuracy: 0.8462 - val_loss: 0.3347 - val_accuracy: 0.8562 - 516ms/epoch - 2ms/step\n",
      "Epoch 108/200\n",
      "225/225 - 1s - loss: 0.3662 - accuracy: 0.8431 - val_loss: 0.3352 - val_accuracy: 0.8587 - 526ms/epoch - 2ms/step\n",
      "Epoch 109/200\n",
      "225/225 - 1s - loss: 0.3678 - accuracy: 0.8449 - val_loss: 0.3351 - val_accuracy: 0.8575 - 518ms/epoch - 2ms/step\n",
      "Epoch 110/200\n",
      "225/225 - 1s - loss: 0.3654 - accuracy: 0.8476 - val_loss: 0.3352 - val_accuracy: 0.8550 - 522ms/epoch - 2ms/step\n",
      "Epoch 111/200\n",
      "225/225 - 1s - loss: 0.3639 - accuracy: 0.8447 - val_loss: 0.3327 - val_accuracy: 0.8587 - 520ms/epoch - 2ms/step\n",
      "Epoch 112/200\n",
      "225/225 - 1s - loss: 0.3675 - accuracy: 0.8443 - val_loss: 0.3375 - val_accuracy: 0.8562 - 532ms/epoch - 2ms/step\n",
      "Epoch 113/200\n",
      "225/225 - 1s - loss: 0.3588 - accuracy: 0.8481 - val_loss: 0.3330 - val_accuracy: 0.8575 - 523ms/epoch - 2ms/step\n",
      "Epoch 114/200\n",
      "225/225 - 1s - loss: 0.3621 - accuracy: 0.8481 - val_loss: 0.3352 - val_accuracy: 0.8550 - 553ms/epoch - 2ms/step\n",
      "Epoch 115/200\n",
      "225/225 - 1s - loss: 0.3641 - accuracy: 0.8471 - val_loss: 0.3351 - val_accuracy: 0.8562 - 579ms/epoch - 3ms/step\n",
      "Epoch 116/200\n",
      "225/225 - 1s - loss: 0.3610 - accuracy: 0.8493 - val_loss: 0.3335 - val_accuracy: 0.8562 - 532ms/epoch - 2ms/step\n",
      "Epoch 117/200\n",
      "225/225 - 1s - loss: 0.3643 - accuracy: 0.8485 - val_loss: 0.3330 - val_accuracy: 0.8587 - 528ms/epoch - 2ms/step\n",
      "Epoch 118/200\n",
      "225/225 - 1s - loss: 0.3666 - accuracy: 0.8440 - val_loss: 0.3333 - val_accuracy: 0.8575 - 535ms/epoch - 2ms/step\n",
      "Epoch 119/200\n",
      "225/225 - 1s - loss: 0.3641 - accuracy: 0.8485 - val_loss: 0.3332 - val_accuracy: 0.8587 - 549ms/epoch - 2ms/step\n",
      "Epoch 120/200\n",
      "225/225 - 1s - loss: 0.3602 - accuracy: 0.8494 - val_loss: 0.3324 - val_accuracy: 0.8587 - 541ms/epoch - 2ms/step\n",
      "Epoch 121/200\n",
      "225/225 - 1s - loss: 0.3611 - accuracy: 0.8468 - val_loss: 0.3346 - val_accuracy: 0.8587 - 518ms/epoch - 2ms/step\n",
      "Epoch 122/200\n",
      "225/225 - 1s - loss: 0.3648 - accuracy: 0.8440 - val_loss: 0.3342 - val_accuracy: 0.8562 - 526ms/epoch - 2ms/step\n",
      "Epoch 123/200\n",
      "225/225 - 1s - loss: 0.3613 - accuracy: 0.8485 - val_loss: 0.3330 - val_accuracy: 0.8575 - 535ms/epoch - 2ms/step\n",
      "Epoch 124/200\n",
      "225/225 - 1s - loss: 0.3634 - accuracy: 0.8467 - val_loss: 0.3344 - val_accuracy: 0.8575 - 534ms/epoch - 2ms/step\n",
      "Epoch 125/200\n",
      "225/225 - 1s - loss: 0.3644 - accuracy: 0.8444 - val_loss: 0.3348 - val_accuracy: 0.8562 - 523ms/epoch - 2ms/step\n",
      "Epoch 126/200\n",
      "225/225 - 1s - loss: 0.3648 - accuracy: 0.8458 - val_loss: 0.3347 - val_accuracy: 0.8550 - 542ms/epoch - 2ms/step\n",
      "Epoch 127/200\n",
      "225/225 - 1s - loss: 0.3652 - accuracy: 0.8449 - val_loss: 0.3362 - val_accuracy: 0.8537 - 635ms/epoch - 3ms/step\n",
      "Epoch 128/200\n",
      "225/225 - 1s - loss: 0.3640 - accuracy: 0.8457 - val_loss: 0.3354 - val_accuracy: 0.8550 - 582ms/epoch - 3ms/step\n",
      "Epoch 129/200\n",
      "225/225 - 1s - loss: 0.3667 - accuracy: 0.8460 - val_loss: 0.3357 - val_accuracy: 0.8550 - 606ms/epoch - 3ms/step\n",
      "Epoch 130/200\n",
      "225/225 - 1s - loss: 0.3615 - accuracy: 0.8446 - val_loss: 0.3352 - val_accuracy: 0.8537 - 592ms/epoch - 3ms/step\n",
      "Epoch 131/200\n",
      "225/225 - 1s - loss: 0.3580 - accuracy: 0.8492 - val_loss: 0.3361 - val_accuracy: 0.8575 - 609ms/epoch - 3ms/step\n",
      "Epoch 132/200\n",
      "225/225 - 1s - loss: 0.3616 - accuracy: 0.8481 - val_loss: 0.3363 - val_accuracy: 0.8537 - 607ms/epoch - 3ms/step\n",
      "Epoch 133/200\n",
      "225/225 - 1s - loss: 0.3633 - accuracy: 0.8485 - val_loss: 0.3347 - val_accuracy: 0.8562 - 600ms/epoch - 3ms/step\n",
      "Epoch 134/200\n",
      "225/225 - 1s - loss: 0.3625 - accuracy: 0.8456 - val_loss: 0.3352 - val_accuracy: 0.8562 - 625ms/epoch - 3ms/step\n",
      "Epoch 135/200\n",
      "225/225 - 1s - loss: 0.3613 - accuracy: 0.8460 - val_loss: 0.3374 - val_accuracy: 0.8550 - 553ms/epoch - 2ms/step\n",
      "Epoch 136/200\n",
      "225/225 - 1s - loss: 0.3647 - accuracy: 0.8453 - val_loss: 0.3366 - val_accuracy: 0.8562 - 555ms/epoch - 2ms/step\n",
      "Epoch 137/200\n",
      "225/225 - 1s - loss: 0.3626 - accuracy: 0.8453 - val_loss: 0.3356 - val_accuracy: 0.8550 - 526ms/epoch - 2ms/step\n",
      "Epoch 138/200\n",
      "225/225 - 1s - loss: 0.3606 - accuracy: 0.8487 - val_loss: 0.3337 - val_accuracy: 0.8575 - 521ms/epoch - 2ms/step\n",
      "Epoch 139/200\n",
      "225/225 - 1s - loss: 0.3628 - accuracy: 0.8454 - val_loss: 0.3387 - val_accuracy: 0.8587 - 562ms/epoch - 2ms/step\n",
      "Epoch 140/200\n",
      "225/225 - 1s - loss: 0.3607 - accuracy: 0.8451 - val_loss: 0.3351 - val_accuracy: 0.8587 - 531ms/epoch - 2ms/step\n",
      "Epoch 141/200\n",
      "225/225 - 1s - loss: 0.3669 - accuracy: 0.8451 - val_loss: 0.3361 - val_accuracy: 0.8550 - 525ms/epoch - 2ms/step\n",
      "Epoch 142/200\n",
      "225/225 - 1s - loss: 0.3599 - accuracy: 0.8450 - val_loss: 0.3358 - val_accuracy: 0.8550 - 587ms/epoch - 3ms/step\n",
      "Epoch 143/200\n",
      "225/225 - 1s - loss: 0.3605 - accuracy: 0.8472 - val_loss: 0.3350 - val_accuracy: 0.8575 - 555ms/epoch - 2ms/step\n",
      "Epoch 144/200\n",
      "225/225 - 1s - loss: 0.3622 - accuracy: 0.8476 - val_loss: 0.3361 - val_accuracy: 0.8550 - 558ms/epoch - 2ms/step\n",
      "Epoch 145/200\n",
      "225/225 - 1s - loss: 0.3609 - accuracy: 0.8467 - val_loss: 0.3345 - val_accuracy: 0.8587 - 581ms/epoch - 3ms/step\n",
      "Epoch 146/200\n",
      "225/225 - 1s - loss: 0.3646 - accuracy: 0.8468 - val_loss: 0.3359 - val_accuracy: 0.8575 - 603ms/epoch - 3ms/step\n",
      "Epoch 147/200\n",
      "225/225 - 1s - loss: 0.3631 - accuracy: 0.8469 - val_loss: 0.3350 - val_accuracy: 0.8575 - 546ms/epoch - 2ms/step\n",
      "Epoch 148/200\n",
      "225/225 - 1s - loss: 0.3608 - accuracy: 0.8465 - val_loss: 0.3358 - val_accuracy: 0.8562 - 606ms/epoch - 3ms/step\n",
      "Epoch 149/200\n",
      "225/225 - 1s - loss: 0.3622 - accuracy: 0.8464 - val_loss: 0.3371 - val_accuracy: 0.8562 - 534ms/epoch - 2ms/step\n",
      "Epoch 150/200\n",
      "225/225 - 1s - loss: 0.3612 - accuracy: 0.8462 - val_loss: 0.3368 - val_accuracy: 0.8575 - 537ms/epoch - 2ms/step\n",
      "Epoch 151/200\n",
      "225/225 - 1s - loss: 0.3562 - accuracy: 0.8490 - val_loss: 0.3328 - val_accuracy: 0.8575 - 569ms/epoch - 3ms/step\n",
      "Epoch 152/200\n",
      "225/225 - 1s - loss: 0.3633 - accuracy: 0.8474 - val_loss: 0.3364 - val_accuracy: 0.8575 - 635ms/epoch - 3ms/step\n",
      "Epoch 153/200\n",
      "225/225 - 1s - loss: 0.3640 - accuracy: 0.8467 - val_loss: 0.3360 - val_accuracy: 0.8537 - 553ms/epoch - 2ms/step\n",
      "Epoch 154/200\n",
      "225/225 - 1s - loss: 0.3602 - accuracy: 0.8487 - val_loss: 0.3352 - val_accuracy: 0.8550 - 593ms/epoch - 3ms/step\n",
      "Epoch 155/200\n",
      "225/225 - 1s - loss: 0.3651 - accuracy: 0.8431 - val_loss: 0.3352 - val_accuracy: 0.8587 - 522ms/epoch - 2ms/step\n",
      "Epoch 156/200\n",
      "225/225 - 1s - loss: 0.3611 - accuracy: 0.8482 - val_loss: 0.3323 - val_accuracy: 0.8562 - 527ms/epoch - 2ms/step\n",
      "Epoch 157/200\n",
      "225/225 - 1s - loss: 0.3604 - accuracy: 0.8476 - val_loss: 0.3347 - val_accuracy: 0.8550 - 539ms/epoch - 2ms/step\n",
      "Epoch 158/200\n",
      "225/225 - 1s - loss: 0.3626 - accuracy: 0.8461 - val_loss: 0.3345 - val_accuracy: 0.8575 - 554ms/epoch - 2ms/step\n",
      "Epoch 159/200\n",
      "225/225 - 1s - loss: 0.3590 - accuracy: 0.8482 - val_loss: 0.3342 - val_accuracy: 0.8562 - 536ms/epoch - 2ms/step\n",
      "Epoch 160/200\n",
      "225/225 - 1s - loss: 0.3691 - accuracy: 0.8432 - val_loss: 0.3349 - val_accuracy: 0.8550 - 537ms/epoch - 2ms/step\n",
      "Epoch 161/200\n",
      "225/225 - 1s - loss: 0.3625 - accuracy: 0.8479 - val_loss: 0.3342 - val_accuracy: 0.8562 - 563ms/epoch - 3ms/step\n",
      "Epoch 162/200\n",
      "225/225 - 1s - loss: 0.3600 - accuracy: 0.8478 - val_loss: 0.3338 - val_accuracy: 0.8537 - 546ms/epoch - 2ms/step\n",
      "Epoch 163/200\n",
      "225/225 - 1s - loss: 0.3645 - accuracy: 0.8440 - val_loss: 0.3361 - val_accuracy: 0.8550 - 521ms/epoch - 2ms/step\n",
      "Epoch 164/200\n",
      "225/225 - 1s - loss: 0.3656 - accuracy: 0.8433 - val_loss: 0.3339 - val_accuracy: 0.8575 - 529ms/epoch - 2ms/step\n",
      "Epoch 165/200\n",
      "225/225 - 1s - loss: 0.3625 - accuracy: 0.8451 - val_loss: 0.3333 - val_accuracy: 0.8575 - 544ms/epoch - 2ms/step\n",
      "Epoch 166/200\n",
      "225/225 - 1s - loss: 0.3628 - accuracy: 0.8467 - val_loss: 0.3343 - val_accuracy: 0.8550 - 534ms/epoch - 2ms/step\n",
      "Epoch 167/200\n",
      "225/225 - 1s - loss: 0.3631 - accuracy: 0.8456 - val_loss: 0.3338 - val_accuracy: 0.8550 - 516ms/epoch - 2ms/step\n",
      "Epoch 168/200\n",
      "225/225 - 1s - loss: 0.3600 - accuracy: 0.8476 - val_loss: 0.3361 - val_accuracy: 0.8525 - 521ms/epoch - 2ms/step\n",
      "Epoch 169/200\n",
      "225/225 - 1s - loss: 0.3628 - accuracy: 0.8450 - val_loss: 0.3345 - val_accuracy: 0.8550 - 537ms/epoch - 2ms/step\n",
      "Epoch 170/200\n",
      "225/225 - 1s - loss: 0.3652 - accuracy: 0.8440 - val_loss: 0.3347 - val_accuracy: 0.8550 - 516ms/epoch - 2ms/step\n",
      "Epoch 171/200\n",
      "225/225 - 1s - loss: 0.3620 - accuracy: 0.8458 - val_loss: 0.3337 - val_accuracy: 0.8562 - 599ms/epoch - 3ms/step\n",
      "Epoch 172/200\n",
      "225/225 - 1s - loss: 0.3605 - accuracy: 0.8464 - val_loss: 0.3340 - val_accuracy: 0.8562 - 535ms/epoch - 2ms/step\n",
      "Epoch 173/200\n",
      "225/225 - 1s - loss: 0.3580 - accuracy: 0.8486 - val_loss: 0.3337 - val_accuracy: 0.8562 - 558ms/epoch - 2ms/step\n",
      "Epoch 174/200\n",
      "225/225 - 1s - loss: 0.3625 - accuracy: 0.8471 - val_loss: 0.3336 - val_accuracy: 0.8562 - 523ms/epoch - 2ms/step\n",
      "Epoch 175/200\n",
      "225/225 - 1s - loss: 0.3630 - accuracy: 0.8469 - val_loss: 0.3331 - val_accuracy: 0.8587 - 530ms/epoch - 2ms/step\n",
      "Epoch 176/200\n",
      "225/225 - 1s - loss: 0.3616 - accuracy: 0.8447 - val_loss: 0.3323 - val_accuracy: 0.8575 - 526ms/epoch - 2ms/step\n",
      "Epoch 177/200\n",
      "225/225 - 1s - loss: 0.3650 - accuracy: 0.8456 - val_loss: 0.3356 - val_accuracy: 0.8550 - 578ms/epoch - 3ms/step\n",
      "Epoch 178/200\n",
      "225/225 - 1s - loss: 0.3640 - accuracy: 0.8451 - val_loss: 0.3360 - val_accuracy: 0.8575 - 536ms/epoch - 2ms/step\n",
      "Epoch 179/200\n",
      "225/225 - 1s - loss: 0.3604 - accuracy: 0.8467 - val_loss: 0.3361 - val_accuracy: 0.8587 - 546ms/epoch - 2ms/step\n",
      "Epoch 180/200\n",
      "225/225 - 1s - loss: 0.3594 - accuracy: 0.8468 - val_loss: 0.3317 - val_accuracy: 0.8600 - 543ms/epoch - 2ms/step\n",
      "Epoch 181/200\n",
      "225/225 - 1s - loss: 0.3672 - accuracy: 0.8446 - val_loss: 0.3357 - val_accuracy: 0.8562 - 543ms/epoch - 2ms/step\n",
      "Epoch 182/200\n",
      "225/225 - 1s - loss: 0.3681 - accuracy: 0.8439 - val_loss: 0.3351 - val_accuracy: 0.8550 - 596ms/epoch - 3ms/step\n",
      "Epoch 183/200\n",
      "225/225 - 1s - loss: 0.3615 - accuracy: 0.8450 - val_loss: 0.3340 - val_accuracy: 0.8550 - 643ms/epoch - 3ms/step\n",
      "Epoch 184/200\n",
      "225/225 - 1s - loss: 0.3624 - accuracy: 0.8432 - val_loss: 0.3377 - val_accuracy: 0.8525 - 552ms/epoch - 2ms/step\n",
      "Epoch 185/200\n",
      "225/225 - 1s - loss: 0.3605 - accuracy: 0.8475 - val_loss: 0.3339 - val_accuracy: 0.8525 - 797ms/epoch - 4ms/step\n",
      "Epoch 186/200\n",
      "225/225 - 1s - loss: 0.3623 - accuracy: 0.8443 - val_loss: 0.3324 - val_accuracy: 0.8537 - 648ms/epoch - 3ms/step\n",
      "Epoch 187/200\n",
      "225/225 - 1s - loss: 0.3623 - accuracy: 0.8460 - val_loss: 0.3335 - val_accuracy: 0.8562 - 512ms/epoch - 2ms/step\n",
      "Epoch 188/200\n",
      "225/225 - 1s - loss: 0.3603 - accuracy: 0.8446 - val_loss: 0.3331 - val_accuracy: 0.8525 - 585ms/epoch - 3ms/step\n",
      "Epoch 189/200\n",
      "225/225 - 1s - loss: 0.3620 - accuracy: 0.8481 - val_loss: 0.3315 - val_accuracy: 0.8587 - 562ms/epoch - 2ms/step\n",
      "Epoch 190/200\n",
      "225/225 - 1s - loss: 0.3607 - accuracy: 0.8461 - val_loss: 0.3325 - val_accuracy: 0.8550 - 553ms/epoch - 2ms/step\n",
      "Epoch 191/200\n",
      "225/225 - 1s - loss: 0.3606 - accuracy: 0.8456 - val_loss: 0.3345 - val_accuracy: 0.8575 - 696ms/epoch - 3ms/step\n",
      "Epoch 192/200\n",
      "225/225 - 1s - loss: 0.3609 - accuracy: 0.8471 - val_loss: 0.3325 - val_accuracy: 0.8550 - 585ms/epoch - 3ms/step\n",
      "Epoch 193/200\n",
      "225/225 - 1s - loss: 0.3576 - accuracy: 0.8497 - val_loss: 0.3327 - val_accuracy: 0.8550 - 532ms/epoch - 2ms/step\n",
      "Epoch 194/200\n",
      "225/225 - 1s - loss: 0.3618 - accuracy: 0.8460 - val_loss: 0.3349 - val_accuracy: 0.8575 - 533ms/epoch - 2ms/step\n",
      "Epoch 195/200\n",
      "225/225 - 1s - loss: 0.3620 - accuracy: 0.8440 - val_loss: 0.3358 - val_accuracy: 0.8562 - 538ms/epoch - 2ms/step\n",
      "Epoch 196/200\n",
      "225/225 - 1s - loss: 0.3624 - accuracy: 0.8467 - val_loss: 0.3323 - val_accuracy: 0.8575 - 528ms/epoch - 2ms/step\n",
      "Epoch 197/200\n",
      "225/225 - 1s - loss: 0.3645 - accuracy: 0.8446 - val_loss: 0.3335 - val_accuracy: 0.8575 - 568ms/epoch - 3ms/step\n",
      "Epoch 198/200\n",
      "225/225 - 1s - loss: 0.3637 - accuracy: 0.8451 - val_loss: 0.3345 - val_accuracy: 0.8550 - 544ms/epoch - 2ms/step\n",
      "Epoch 199/200\n",
      "225/225 - 1s - loss: 0.3632 - accuracy: 0.8462 - val_loss: 0.3334 - val_accuracy: 0.8587 - 537ms/epoch - 2ms/step\n",
      "Epoch 200/200\n",
      "225/225 - 1s - loss: 0.3599 - accuracy: 0.8487 - val_loss: 0.3329 - val_accuracy: 0.8562 - 524ms/epoch - 2ms/step\n"
     ]
    }
   ],
   "source": [
    "#Fitting the Neural Network\n",
    "history = classifier.fit(X_train, y_train, batch_size = 32, epochs = 200, validation_split = 0.1, verbose = 2)"
   ]
  },
  {
   "cell_type": "code",
   "execution_count": 19,
   "metadata": {
    "colab": {
     "base_uri": "https://localhost:8080/"
    },
    "id": "aq1-eNM2YqL8",
    "outputId": "0fd0fa0a-cf54-4637-f8b6-f15342002a15"
   },
   "outputs": [
    {
     "name": "stdout",
     "output_type": "stream",
     "text": [
      "63/63 [==============================] - 0s 2ms/step\n",
      "[[0.31813   ]\n",
      " [0.34352785]\n",
      " [0.23845527]\n",
      " [0.11229564]\n",
      " [0.05677624]]\n"
     ]
    }
   ],
   "source": [
    "y_pred = classifier.predict(X_test)\n",
    "print(y_pred[:5])"
   ]
  },
  {
   "cell_type": "code",
   "execution_count": 20,
   "metadata": {
    "colab": {
     "base_uri": "https://localhost:8080/"
    },
    "id": "S8JJz5bLY-7I",
    "outputId": "00827497-0dfb-49c4-d70b-2071d70ae5f0"
   },
   "outputs": [
    {
     "name": "stdout",
     "output_type": "stream",
     "text": [
      "[[0]\n",
      " [0]\n",
      " [0]\n",
      " [0]\n",
      " [0]]\n"
     ]
    }
   ],
   "source": [
    "#Let us use confusion matrix with cutoff value as 0.5\n",
    "y_pred = (y_pred > 0.5).astype(int)\n",
    "print(y_pred[:5])"
   ]
  },
  {
   "cell_type": "code",
   "execution_count": 21,
   "metadata": {
    "colab": {
     "base_uri": "https://localhost:8080/"
    },
    "id": "Bcyv6h2UZPbO",
    "outputId": "6ca6b222-2516-4b03-c081-1ba7feaa6817"
   },
   "outputs": [
    {
     "name": "stdout",
     "output_type": "stream",
     "text": [
      "[[1549   46]\n",
      " [ 225  180]]\n"
     ]
    }
   ],
   "source": [
    "#Making the Matrix\n",
    "from sklearn.metrics import confusion_matrix\n",
    "cm = confusion_matrix(y_test, y_pred)\n",
    "print(cm)"
   ]
  },
  {
   "cell_type": "code",
   "execution_count": 22,
   "metadata": {
    "colab": {
     "base_uri": "https://localhost:8080/"
    },
    "id": "l3weViSLZc1v",
    "outputId": "64895b62-30f8-4e86-e592-d3fae20b2673"
   },
   "outputs": [
    {
     "name": "stdout",
     "output_type": "stream",
     "text": [
      "86.45 % of data was classified correctly\n"
     ]
    }
   ],
   "source": [
    "#Accuracy of our NN\n",
    "print(((cm[0][0] + cm[1][1])* 100) / len(y_test), '% of data was classified correctly')"
   ]
  }
 ],
 "metadata": {
  "colab": {
   "provenance": []
  },
  "interpreter": {
   "hash": "f82e9eef39fec3b4432bd3d531b07136b7f172564442eec42315ae171445fe6f"
  },
  "kernelspec": {
   "display_name": "Python 3 (ipykernel)",
   "language": "python",
   "name": "python3"
  },
  "language_info": {
   "codemirror_mode": {
    "name": "ipython",
    "version": 3
   },
   "file_extension": ".py",
   "mimetype": "text/x-python",
   "name": "python",
   "nbconvert_exporter": "python",
   "pygments_lexer": "ipython3",
   "version": "3.11.4"
  }
 },
 "nbformat": 4,
 "nbformat_minor": 4
}
